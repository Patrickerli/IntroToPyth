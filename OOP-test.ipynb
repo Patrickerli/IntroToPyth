{
 "cells": [
  {
   "cell_type": "code",
   "execution_count": null,
   "id": "0fab5250",
   "metadata": {},
   "outputs": [],
   "source": [
    "# 定义一个父类\n",
    "class Father():\n",
    "    money = 100 #父类类属性\n",
    "    # 父类构造函数\n",
    "    def __init__(self, name, age):\n",
    "        self.name = name\n",
    "        self.age = age\n",
    "    \n",
    "    # 父类方法\n",
    "    def fly(self):\n",
    "        print(self.name, '会飞')\n",
    "    \n",
    "    # 父类方法\n",
    "    def get_like(self):\n",
    "        print(self.name, \"会跑路\")\n",
    " \n",
    "# 定义一个子类\n",
    "class Son(Father):\n",
    "    # 子类构造函数\n",
    "    def __init__(self,name,age,like):\n",
    "        super(Son, self).__init__(name,age) #集成父类后重构父类构造函数（父类构造函数初始化）\n",
    "        self.like=like\n",
    " \n",
    "    # 重构父类方法——将父类中的get_like方法进行重写\n",
    "    def get_like(self):\n",
    "        print(\"儿子喜欢\", self.like)\n",
    " \n",
    " \n",
    "if __name__ == '__main__':\n",
    "    S = Son('father', 38, \"美女\")     #实例化子类\n",
    "    S.fly() \n",
    "    #>> father 会飞     #调用父类实例方法\n",
    "    print(S.money) \n",
    "    #>> 100  #调用父类类属性\n",
    "    #get_like方法在子类中进行了重构，于是此处调用子类Son中的get_like\n",
    "    S.get_like() \n",
    "    #>> 儿子喜欢 美女\n"
   ]
  },
  {
   "cell_type": "code",
   "execution_count": 1,
   "id": "b40c01fe",
   "metadata": {},
   "outputs": [
    {
     "name": "stdout",
     "output_type": "stream",
     "text": [
      "Name :  Zara , Salary:  2000\n",
      "Name :  Manni , Salary:  5000\n",
      "Total Employee 2\n"
     ]
    }
   ],
   "source": [
    "class Employee:\n",
    "   '所有员工的基类'\n",
    "   empCount = 0\n",
    " \n",
    "   def __init__(self, name, salary):\n",
    "      self.name = name\n",
    "      self.salary = salary\n",
    "      Employee.empCount += 1\n",
    "   \n",
    "   def displayCount(self):\n",
    "     print(\"Total Employee %d\" % Employee.empCount)\n",
    " \n",
    "   def displayEmployee(self):\n",
    "      print(\"Name : \", self.name,  \", Salary: \", self.salary)\n",
    " \n",
    "\"创建 Employee 类的第一个对象\"\n",
    "emp1 = Employee(\"Zara\", 2000)\n",
    "\"创建 Employee 类的第二个对象\"\n",
    "emp2 = Employee(\"Manni\", 5000)\n",
    "emp1.displayEmployee()\n",
    "emp2.displayEmployee()\n",
    "print(\"Total Employee %d\" % Employee.empCount)"
   ]
  },
  {
   "cell_type": "code",
   "execution_count": 3,
   "id": "22b869ba",
   "metadata": {},
   "outputs": [],
   "source": [
    "class Students:\n",
    "    '学生类'\n",
    "    def __init__(self,name,id):\n",
    "        self.name = name\n",
    "        self.id = id\n",
    "        self.grade = {\"chinese\": 0, \"math\": 0, \"english\": 0}\n",
    "    def set_grade(self,course,grade):\n",
    "        if course in self.grade:\n",
    "            self.grade[course] = grade\n",
    "\n",
    "    def print_grades(self):\n",
    "        print(f'{self.name}{self.id}')\n",
    "        for course in self.grade:\n",
    "            print(f'self.grade')\n",
    "\n",
    "    \n",
    "\n",
    "    \n",
    "\n",
    "student1 = Students(\"adaf\", \"afadaf\")\n",
    "\n"
   ]
  },
  {
   "cell_type": "code",
   "execution_count": 4,
   "id": "f9453f60",
   "metadata": {},
   "outputs": [
    {
     "data": {
      "text/plain": [
       "{'chinese': 0, 'math': 0, 'english': 0}"
      ]
     },
     "execution_count": 4,
     "metadata": {},
     "output_type": "execute_result"
    }
   ],
   "source": [
    "student1.grade"
   ]
  },
  {
   "cell_type": "code",
   "execution_count": 20,
   "id": "010f3669",
   "metadata": {},
   "outputs": [],
   "source": [
    "class Employee:\n",
    "   '所有员工的基类'\n",
    "   def __init__(self,name,id):\n",
    "      self.name = name\n",
    "      self.id = id\n",
    "\n",
    "   def message(self):\n",
    "      print(f'name:{self.name} id:{self.id}')\n",
    "\n",
    "\n",
    "class FullWork(Employee):\n",
    "   def __init__(self, name, id, monthly_salary):\n",
    "      super().__init__(name, id)\n",
    "      self.monthly_salary = monthly_salary\n",
    "\n",
    "\n",
    "class PartWork(Employee):\n",
    "   def __init__(self, name, id, daily_salary, day):\n",
    "      super().__init__(name, id)\n",
    "      self.daily_salary = daily_salary\n",
    "      self.day = day\n",
    "\n",
    "jake = FullWork('jake','14124',10000)"
   ]
  },
  {
   "cell_type": "code",
   "execution_count": 22,
   "id": "70d5f1bb",
   "metadata": {},
   "outputs": [
    {
     "name": "stdout",
     "output_type": "stream",
     "text": [
      "name:jake id:14124\n"
     ]
    }
   ],
   "source": [
    "jake.message()"
   ]
  }
 ],
 "metadata": {
  "kernelspec": {
   "display_name": "Python 3",
   "language": "python",
   "name": "python3"
  },
  "language_info": {
   "codemirror_mode": {
    "name": "ipython",
    "version": 3
   },
   "file_extension": ".py",
   "mimetype": "text/x-python",
   "name": "python",
   "nbconvert_exporter": "python",
   "pygments_lexer": "ipython3",
   "version": "3.11.1"
  },
  "vscode": {
   "interpreter": {
    "hash": "14f072873ae08df4c138db59151e17ea0fcd37562a0aadae5c1dbd5a550728a0"
   }
  }
 },
 "nbformat": 4,
 "nbformat_minor": 5
}
