{
 "cells": [
  {
   "cell_type": "markdown",
   "id": "0e4b47d0",
   "metadata": {},
   "source": [
    "2.1\n",
    "(What does this code do?) Create the variables x = 2 and y = 3, then determine what each of the following statements displays:"
   ]
  },
  {
   "cell_type": "code",
   "execution_count": 7,
   "id": "ad7e0c0e",
   "metadata": {},
   "outputs": [],
   "source": [
    "#creat the variables x, y\n",
    "\n",
    "x =2 \n",
    "y = 3"
   ]
  },
  {
   "cell_type": "markdown",
   "id": "807ddb2c",
   "metadata": {},
   "source": [
    "print(...)\n",
    "    print(value, ..., sep=' ', end='\\n', file=sys.stdout, flush=False)\n",
    "    \n",
    "    Prints the values to a stream, or to sys.stdout by default.\n",
    "    Optional keyword arguments:\n",
    "    file:  a file-like object (stream); defaults to the current sys.stdout.\n",
    "    sep:   string inserted between values, default a space.\n",
    "    end:   string appended after the last value, default a newline.\n",
    "    flush: whether to forcibly flush the stream."
   ]
  },
  {
   "cell_type": "code",
   "execution_count": 8,
   "id": "f43f68be",
   "metadata": {},
   "outputs": [
    {
     "name": "stdout",
     "output_type": "stream",
     "text": [
      "x = 2\n"
     ]
    }
   ],
   "source": [
    "print('x =', x)  #print x = 2 "
   ]
  },
  {
   "cell_type": "code",
   "execution_count": 9,
   "id": "74e12126",
   "metadata": {},
   "outputs": [
    {
     "name": "stdout",
     "output_type": "stream",
     "text": [
      "Value of 2 + 2 is 4\n"
     ]
    }
   ],
   "source": [
    "print('Value of', x, '+', x, 'is', (x + x))  #print Value of 2 + 2 is 4"
   ]
  },
  {
   "cell_type": "code",
   "execution_count": 10,
   "id": "c257042b",
   "metadata": {},
   "outputs": [
    {
     "name": "stdout",
     "output_type": "stream",
     "text": [
      "x =\n"
     ]
    }
   ],
   "source": [
    "print('x =')"
   ]
  },
  {
   "cell_type": "code",
   "execution_count": 11,
   "id": "13c2887d",
   "metadata": {},
   "outputs": [
    {
     "name": "stdout",
     "output_type": "stream",
     "text": [
      "5 = 5\n"
     ]
    }
   ],
   "source": [
    "print((x + y), '=', (y + x))"
   ]
  },
  {
   "cell_type": "markdown",
   "id": "30226ef9",
   "metadata": {},
   "source": [
    "2.2\n",
    "(What’s wrong with this code?) The following code should read an integer into the\n",
    "variable rating: \n",
    "    rating = input('Enter an integer rating between 1 and 10')"
   ]
  },
  {
   "cell_type": "code",
   "execution_count": 12,
   "id": "b35f3d8d",
   "metadata": {},
   "outputs": [
    {
     "name": "stdout",
     "output_type": "stream",
     "text": [
      "Enter an integer rating between 1 and 104\n"
     ]
    }
   ],
   "source": [
    "#our goal： read an integer\n",
    "#input should be a int and then let rating = int(what you typing)\n",
    "\n",
    "rating = int(input('Enter an integer rating between 1 and 10'))"
   ]
  },
  {
   "cell_type": "markdown",
   "id": "e3a80408",
   "metadata": {},
   "source": [
    "2.3(Fill in the missing code) Replace *** in the following code with a statement that\n",
    "will print a message like 'Congratulations! Your grade of 91 earns you an A in this\n",
    "course'. Your statement should print the value stored in the variable grade:\n",
    "if grade >= 90:\n",
    " ***"
   ]
  },
  {
   "cell_type": "code",
   "execution_count": 13,
   "id": "079f870a",
   "metadata": {},
   "outputs": [
    {
     "name": "stdout",
     "output_type": "stream",
     "text": [
      "please typing your grade: 89\n",
      "Unfortunately! Your score was 89 ,you didn't earn A\n"
     ]
    }
   ],
   "source": [
    "grade = int(input(\"please typing your grade: \")) #first creat your grade let user input their grade\n",
    "\n",
    "if grade >= 90:  #Determine if the value stored in grade is greater or equal then 90\n",
    "    print('Congratulations! Your grade of',grade,'earns you an A in this course')\n",
    "else:            #Judgment of less than 90 points\n",
    "    print('Unfortunately! Your score was',grade,',you didn\\'t earn A')\n"
   ]
  },
  {
   "cell_type": "markdown",
   "id": "a937786c",
   "metadata": {},
   "source": [
    "2.4\n",
    "(Arithmetic) For each of the arithmetic operators +, -, *, /, // and *^*, \n",
    "display the value of an expression with 27.5 as the left operand and 2 as the right operand."
   ]
  },
  {
   "cell_type": "code",
   "execution_count": 14,
   "id": "3a874174",
   "metadata": {},
   "outputs": [
    {
     "data": {
      "text/plain": [
       "29.5"
      ]
     },
     "execution_count": 14,
     "metadata": {},
     "output_type": "execute_result"
    }
   ],
   "source": [
    "27.5 + 2"
   ]
  },
  {
   "cell_type": "code",
   "execution_count": 15,
   "id": "12a7f944",
   "metadata": {},
   "outputs": [
    {
     "data": {
      "text/plain": [
       "25.5"
      ]
     },
     "execution_count": 15,
     "metadata": {},
     "output_type": "execute_result"
    }
   ],
   "source": [
    "27.5 - 2"
   ]
  },
  {
   "cell_type": "code",
   "execution_count": 16,
   "id": "d9d79f42",
   "metadata": {},
   "outputs": [
    {
     "data": {
      "text/plain": [
       "55.0"
      ]
     },
     "execution_count": 16,
     "metadata": {},
     "output_type": "execute_result"
    }
   ],
   "source": [
    "27.5 * 2"
   ]
  },
  {
   "cell_type": "code",
   "execution_count": 17,
   "id": "eb6c125a",
   "metadata": {},
   "outputs": [
    {
     "data": {
      "text/plain": [
       "13.75"
      ]
     },
     "execution_count": 17,
     "metadata": {},
     "output_type": "execute_result"
    }
   ],
   "source": [
    "27.5 / 2"
   ]
  },
  {
   "cell_type": "code",
   "execution_count": 18,
   "id": "53cc274a",
   "metadata": {},
   "outputs": [
    {
     "data": {
      "text/plain": [
       "13.0"
      ]
     },
     "execution_count": 18,
     "metadata": {},
     "output_type": "execute_result"
    }
   ],
   "source": [
    "27.5 // 2"
   ]
  },
  {
   "cell_type": "code",
   "execution_count": 19,
   "id": "342ec0bc",
   "metadata": {},
   "outputs": [
    {
     "data": {
      "text/plain": [
       "756.25"
      ]
     },
     "execution_count": 19,
     "metadata": {},
     "output_type": "execute_result"
    }
   ],
   "source": [
    "27.5 ** 2"
   ]
  },
  {
   "cell_type": "markdown",
   "id": "2e9abce0",
   "metadata": {},
   "source": [
    "2.5\n",
    "(Circle Area, Diameter and Circumference) For a circle of radius 2, display the di\u0002ameter, circumference and area. Use the value 3.14159 for π. Use the following formulas\n",
    "(r is the radius): diameter = 2r, circumference = 2πr and area = πr2. [In a later chapter, we’ll introduce Python’s math module which contains a higher-precision representation of π.]"
   ]
  },
  {
   "cell_type": "code",
   "execution_count": 20,
   "id": "bd34d0db",
   "metadata": {
    "scrolled": true
   },
   "outputs": [
    {
     "name": "stdout",
     "output_type": "stream",
     "text": [
      "please type the r of circle: 2\n",
      "diameter = 4 circumference = 12.56636 area = 12.56636\n"
     ]
    }
   ],
   "source": [
    "pi = 3.14159 #first creat pi as π equal to 3.14159\n",
    "\n",
    "r = int(input(\"please type the r of circle: \"))\n",
    "\n",
    "#By math we can know the function of diameter = 2r  circumference = 2πr  area = πr**2\n",
    "diameter = 2*r  \n",
    "circumference = 2*pi*r  \n",
    "area = pi*r**2\n",
    "\n",
    "print(\"diameter =\",diameter,\"circumference =\",circumference,\"area =\",area)"
   ]
  },
  {
   "cell_type": "markdown",
   "id": "ef27e308",
   "metadata": {},
   "source": [
    "2.6\n",
    "(Odd or Even) Use if statements to determine whether an integer is odd or even.\n",
    "[Hint: Use the remainder operator. An even number is a multiple of 2. Any multiple of 2\n",
    "leaves a remainder of 0 when divided by 2.]"
   ]
  },
  {
   "cell_type": "code",
   "execution_count": 21,
   "id": "9f52e36e",
   "metadata": {},
   "outputs": [
    {
     "name": "stdout",
     "output_type": "stream",
     "text": [
      "Please enter the number: 45858588\n",
      "45858588 is even.\n"
     ]
    }
   ],
   "source": [
    "#our goal: determine whether an integer is odd or even.\n",
    "#we can use % to acheive it\n",
    "#when a number A is odd we can know A % 2 is equal to 1, if A is even A % 2 is not equal to 0\n",
    "    #get a number from user\n",
    "    #if answer is 1 it's odd ,and if answer is 0 it's even, we use else because the result of a number % is 0 or 1\n",
    "    \n",
    "number = int(input(\"Please enter the number: \")) #get a number from user\n",
    "\n",
    "if number % 2 == 1:\n",
    "    \n",
    "    print(number,\"is odd.\") #if answer is 1 it's odd  \n",
    "    \n",
    "else:\n",
    "    \n",
    "    print(number,\"is even.\")\n",
    "    \n"
   ]
  },
  {
   "cell_type": "markdown",
   "id": "137db96b",
   "metadata": {},
   "source": [
    "2.7 \n",
    "(Multiples) Use if statements to determine whether 1024 is a multiple of 4 and\n",
    "whether 2 is a multiple of 10. (Hint: Use the remainder operator.)\n",
    "\n",
    "**I wasn't quite sure if I needed to get the value, so I wrote two methods**"
   ]
  },
  {
   "cell_type": "code",
   "execution_count": 22,
   "id": "b4228987",
   "metadata": {},
   "outputs": [
    {
     "name": "stdout",
     "output_type": "stream",
     "text": [
      "1024\n",
      "1024 is a multiple of 4\n",
      "1024 isn't a multiple of 10\n"
     ]
    }
   ],
   "source": [
    "#methods 1\n",
    "\n",
    "number = int(input()) #first creat number let user input their number\n",
    "\n",
    "if number % 4 == 0:   #Determine if it is divisible by 4\n",
    "    print(number,\"is a multiple of 4\")\n",
    "else:\n",
    "    print(number,\"isn't a multiple of 4\")\n",
    "if number % 10 == 0:  #Determine if it is divisible by 10\n",
    "    print(number,\"is a multiple of 10\")\n",
    "else:\n",
    "    print(number,\"isn't a multiple of 10\")"
   ]
  },
  {
   "cell_type": "code",
   "execution_count": 24,
   "id": "bccc451c",
   "metadata": {},
   "outputs": [
    {
     "name": "stdout",
     "output_type": "stream",
     "text": [
      "1024 is a multiple of 4\n",
      "1024 isn't a multiple of 10\n"
     ]
    }
   ],
   "source": [
    "#methods 2\n",
    "if 1024 % 4 == 0:\n",
    "    print(\"1024 is a multiple of 4\")\n",
    "if 2 % 10 == 0:\n",
    "    print(number,\"is a multiple of 10\")\n",
    "else:\n",
    "    print(number,\"isn't a multiple of 10\")"
   ]
  },
  {
   "cell_type": "markdown",
   "id": "dec1b420",
   "metadata": {},
   "source": [
    "2.8\n",
    "(Table of Squares and Cubes) Write a script that calculates the squares and cubes\n",
    "of the numbers from 0 to 5. Print the resulting values in table format, as shown below. Use\n",
    "the tab escape sequence to achieve the three-column output."
   ]
  },
  {
   "cell_type": "code",
   "execution_count": 32,
   "id": "f4431d44",
   "metadata": {
    "scrolled": true
   },
   "outputs": [
    {
     "name": "stdout",
     "output_type": "stream",
     "text": [
      "number\t square\t cube\n",
      "0 \t 0 \t 0\n",
      "1 \t 1 \t 1\n",
      "2 \t 4 \t 8\n",
      "3 \t 9 \t 27\n",
      "4 \t 16 \t 64\n",
      "5 \t 25 \t 125\n"
     ]
    }
   ],
   "source": [
    "#method 1\n",
    "print(\"number\\t square\\t cube\") #print number square cube\n",
    "for i in range(0,6):\n",
    "    print(i,\"\\t\",i**2,\"\\t\",i**3)  #use for loop creat a list and begin 0 to5"
   ]
  },
  {
   "cell_type": "code",
   "execution_count": 36,
   "id": "698ffa0e",
   "metadata": {
    "scrolled": true
   },
   "outputs": [
    {
     "name": "stdout",
     "output_type": "stream",
     "text": [
      "number\tsquare\tcube\n",
      "0\t0\t0\n",
      "1\t1\t1\n",
      "2\t4\t8\n",
      "3\t9\t27\n",
      "4\t16\t64\n",
      "5\t25\t125\n"
     ]
    }
   ],
   "source": [
    "#method 2\n",
    "num = 0\n",
    "num1 = 1\n",
    "num2 = 2\n",
    "num3 = 3\n",
    "num4 = 4\n",
    "num5 = 5\n",
    "#creat 0-5\n",
    "\n",
    "print(f'number\\tsquare\\tcube\\n{num}\\t{num ** 2}\\t{num ** 3}\\n{num1}\\t{num1 ** 2}\\t{num1 ** 3}\\n{num2}\\t{num2 ** 2}\\\n",
    "\\t{num2 ** 3}\\n{num3}\\t{num3 ** 2}\\t{num3 ** 3}\\n{num4}\\t{num4 ** 2}\\t{num4 ** 3}\\n{num5}\\t{num5 ** 2}\\t{num5 ** 3}')\n",
    "# print \n"
   ]
  },
  {
   "cell_type": "code",
   "execution_count": 35,
   "id": "c62f7fbf",
   "metadata": {},
   "outputs": [
    {
     "name": "stdout",
     "output_type": "stream",
     "text": [
      "number\tsquare\tcube\n",
      "0\t0\t0\t\n",
      "1\t1\t1\t\n",
      "2\t4\t8\t\n",
      "3\t9\t27\t\n",
      "4\t16\t64\t\n",
      "5\t25\t125\n"
     ]
    }
   ],
   "source": [
    "#method 2.5\n",
    "num = 0\n",
    "num1 = 1\n",
    "num2 = 2\n",
    "num3 = 3\n",
    "num4 = 4\n",
    "num5 = 5\n",
    "#creat 0-5\n",
    "\n",
    "print ('number\\tsquare\\tcube',\"\\n\",num,\"\\t\",num ** 2,\"\\t\",num ** 3,\"\\t\",\"\\n\",num1,\"\\t\",num1 ** 2,\n",
    "       \"\\t\",num1 ** 3,\"\\t\",\"\\n\",num2,\"\\t\",num2 ** 2,\"\\t\",num2 ** 3,\"\\t\",\"\\n\",num3,\"\\t\",num3 ** 2,\n",
    "       \"\\t\",num3 ** 3,\"\\t\",\"\\n\",num4,\"\\t\",num4 ** 2,\"\\t\",num4 ** 3,\"\\t\",\"\\n\",num5,\"\\t\",num5 ** 2,\n",
    "       \"\\t\",num5 ** 3, sep = '')\n",
    "# print "
   ]
  },
  {
   "cell_type": "code",
   "execution_count": 30,
   "id": "b864c445",
   "metadata": {},
   "outputs": [
    {
     "name": "stdout",
     "output_type": "stream",
     "text": [
      "number\tsquare\tcube\n",
      "0\t0\t0\n",
      "1\t1\t1\n",
      "2\t4\t8\n",
      "3\t9\t27\n",
      "4\t16\t64\n",
      "5\t25\t125\n"
     ]
    }
   ],
   "source": [
    "#method 3\n",
    "print(\"number\\tsquare\\tcube\") #print number square cube\n",
    "for i in range(6):\n",
    "    square = i**2\n",
    "    cube = i**3\n",
    "    print(f\"{i}\\t{square}\\t{cube}\") #use for loop creat a list and begin 0 to5  #use f to let then become str\n"
   ]
  },
  {
   "cell_type": "markdown",
   "id": "b80523a5",
   "metadata": {},
   "source": [
    "The next chapter shows how to “right align” numbers. You could try that as an extra chal\u0002lenge here. The output would be:"
   ]
  },
  {
   "cell_type": "code",
   "execution_count": 37,
   "id": "c9b125ee",
   "metadata": {},
   "outputs": [
    {
     "name": "stdout",
     "output_type": "stream",
     "text": [
      "number\tsquare\tcube\n",
      "     0\t     0\t   0\n",
      "     1\t     1\t   1\n",
      "     2\t     4\t   8\n",
      "     3\t     9\t  27\n",
      "     4\t    16\t  64\n",
      "     5\t    25\t 125\n"
     ]
    }
   ],
   "source": [
    "print(\"number\\tsquare\\tcube\") #print number square cube\n",
    "for i in range(6):\n",
    "    print(f\"{i:>6}\\t{i**2:>6}\\t{i**3:>4}\") #{ :x} x means move step\n"
   ]
  }
 ],
 "metadata": {
  "kernelspec": {
   "display_name": "Python 3 (ipykernel)",
   "language": "python",
   "name": "python3"
  },
  "language_info": {
   "codemirror_mode": {
    "name": "ipython",
    "version": 3
   },
   "file_extension": ".py",
   "mimetype": "text/x-python",
   "name": "python",
   "nbconvert_exporter": "python",
   "pygments_lexer": "ipython3",
   "version": "3.9.13"
  }
 },
 "nbformat": 4,
 "nbformat_minor": 5
}
