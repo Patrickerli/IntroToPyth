{
 "cells": [
  {
   "cell_type": "markdown",
   "id": "a37cd38b",
   "metadata": {},
   "source": [
    "(Validating User Input) Modify the script of Fig. 3.3 to validate its inputs. For any input, if the value entered is other than 1 or 2, keep looping until the user enters a correct value. Use one counter to keep track of the number of passes, then calculate the number of failures after all the user’s inputs have been received."
   ]
  },
  {
   "cell_type": "code",
   "execution_count": 4,
   "id": "f5ec284a",
   "metadata": {},
   "outputs": [
    {
     "name": "stdout",
     "output_type": "stream",
     "text": [
      "Passed: 5\n",
      "Failed: 5\n"
     ]
    }
   ],
   "source": [
    "# fig03_03.py\n",
    "\"\"\"Using nested control statements to analyze examination results.\"\"\"\n",
    "\"\"\"\n",
    "PROCEDURE analyze_exam_results\n",
    "SET passes = 0\n",
    "SET failures = 0\n",
    "\n",
    "FOR student IN 0 to 9\n",
    "    INPUT result\n",
    "    \n",
    "    WHILE result is not 1 and 2\n",
    "        INPUT result\n",
    "    END WHILE\n",
    "    \n",
    "    IF result is 1\n",
    "        SET passes = passes + 1\n",
    "    END IF\n",
    "    \n",
    "END FOR\n",
    "\n",
    "SET failures = 10 - passes\n",
    "OUTPUT passes\n",
    "OUTPUT failures\n",
    "\n",
    "IF passes > 8\n",
    "    OUTPUT \"Bonus to instructor\"\n",
    "END IF\n",
    "\n",
    "END PROCEDURE\n",
    "\n",
    "\"\"\"\n",
    "\n",
    "\n",
    "\n",
    "# initialize variables\n",
    "passes = 0  # number of passes\n",
    "failures = 0  # number of failures\n",
    "\n",
    "for student in range(10):\n",
    "    result = int(input('Enter result (1=pass, 2=fail): '))\n",
    "    while result != 1 and result != 2:\n",
    "        result = int(input('Enter result (1=pass, 2=fail): '))\n",
    "    if result == 1:\n",
    "        passes = passes + 1\n",
    "        \n",
    "        \n",
    "failures = 10 - passes #Counting failures outside\n",
    "# termination phase\n",
    "print('Passed:', passes)\n",
    "print('Failed:', failures)\n",
    "\n",
    "if passes > 8:\n",
    "    print('Bonus to instructor')\n",
    "\n",
    "##########################################################################\n",
    "# (C) Copyright 2019 by Deitel & Associates, Inc. and                    #\n",
    "# Pearson Education, Inc. All Rights Reserved.                           #\n",
    "#                                                                        #\n",
    "# DISCLAIMER: The authors and publisher of this book have used their     #\n",
    "# best efforts in preparing the book. These efforts include the          #\n",
    "# development, research, and testing of the theories and programs        #\n",
    "# to determine their effectiveness. The authors and publisher make       #\n",
    "# no warranty of any kind, expressed or implied, with regard to these    #\n",
    "# programs or to the documentation contained in these books. The authors #\n",
    "# and publisher shall not be liable in any event for incidental or       #\n",
    "# consequential damages in connection with, or arising out of, the       #\n",
    "# furnishing, performance, or use of these programs.                     #\n",
    "##########################################################################\n"
   ]
  },
  {
   "cell_type": "code",
   "execution_count": null,
   "id": "cebc189a",
   "metadata": {},
   "outputs": [],
   "source": [
    "#3.4\n",
    "#(Fill in the Missing Code) In the code below \n",
    "#for ***:\n",
    "# for ***:\n",
    "# print('@')\n",
    "# print()\n",
    "#replace the *** so that when you execute the code, it displays two rows, each containing\n",
    "#seven @ symbols, as in:\n",
    "@@@@@@@\n",
    "@@@@@@@"
   ]
  },
  {
   "cell_type": "code",
   "execution_count": 72,
   "id": "d75e6969",
   "metadata": {},
   "outputs": [
    {
     "name": "stdout",
     "output_type": "stream",
     "text": [
      "@@@@@@@\n",
      "@@@@@@@\n"
     ]
    }
   ],
   "source": [
    "\"\"\"\n",
    "PROCEDURE print_at_symbol_pattern\n",
    "FOR i IN 0 to 1\n",
    "    FOR i IN 0 to 6OUTPUT \"@\"\n",
    "    END FOR\n",
    "        OUTPUT new line\n",
    "END FOR\n",
    "END PROCEDURE\n",
    "\"\"\"\n",
    "\n",
    "for i in range(2):\n",
    "    for i in range(7):\n",
    "        print('@', end=\"\")\n",
    "    print()#print a new line"
   ]
  },
  {
   "cell_type": "code",
   "execution_count": null,
   "id": "9436093a",
   "metadata": {},
   "outputs": [],
   "source": [
    "3.5\n",
    "#(if…else Statements) Reimplement the script of Fig. 2.1 using three if…else \n",
    "#statements rather than six if statements. [Hint: For example, think of == and != as “op\u0002posite” tests.]"
   ]
  },
  {
   "cell_type": "code",
   "execution_count": 73,
   "id": "b051a375",
   "metadata": {},
   "outputs": [
    {
     "name": "stdout",
     "output_type": "stream",
     "text": [
      "Enter two integers and I will tell you the relationships they satisfy.\n",
      "Enter first integer: 258\n",
      "Enter second integer: 545\n",
      "258 is not equal to 545\n",
      "258 is less than 545\n",
      "258 is less than or equal to 545\n"
     ]
    }
   ],
   "source": [
    "# fig02_01.py\n",
    "\"\"\"Compare integers using if statements and comparison operators.\"\"\"\n",
    "\n",
    "print('Enter two integers and I will tell you', \n",
    "      'the relationships they satisfy.')\n",
    "\n",
    "# read first integer\n",
    "number1 = int(input('Enter first integer: '))\n",
    "\n",
    "# read second integer\n",
    "number2 = int(input('Enter second integer: '))\n",
    "\n",
    "if number1 == number2:\n",
    "    print(number1, 'is equal to', number2)\n",
    "\n",
    "if number1 != number2:\n",
    "    print(number1, 'is not equal to', number2)\n",
    "\n",
    "if number1 < number2:\n",
    "    print(number1, 'is less than', number2)\n",
    "\n",
    "if number1 > number2:\n",
    "    print(number1, 'is greater than', number2)\n",
    "\n",
    "if number1 <= number2:\n",
    "    print(number1, 'is less than or equal to', number2)\n",
    "\n",
    "if number1 >= number2:\n",
    "    print(number1, 'is greater than or equal to', number2)\n",
    "\n",
    "##########################################################################\n",
    "# (C) Copyright 2019 by Deitel & Associates, Inc. and                    #\n",
    "# Pearson Education, Inc. All Rights Reserved.                           #\n",
    "#                                                                        #\n",
    "# DISCLAIMER: The authors and publisher of this book have used their     #\n",
    "# best efforts in preparing the book. These efforts include the          #\n",
    "# development, research, and testing of the theories and programs        #\n",
    "# to determine their effectiveness. The authors and publisher make       #\n",
    "# no warranty of any kind, expressed or implied, with regard to these    #\n",
    "# programs or to the documentation contained in these books. The authors #\n",
    "# and publisher shall not be liable in any event for incidental or       #\n",
    "# consequential damages in connection with, or arising out of, the       #\n",
    "# furnishing, performance, or use of these programs.                     #\n",
    "##########################################################################"
   ]
  },
  {
   "cell_type": "code",
   "execution_count": 1,
   "id": "43b66dc8",
   "metadata": {},
   "outputs": [
    {
     "name": "stdout",
     "output_type": "stream",
     "text": [
      "Enter two integers and I will tell you the relationships they satisfy.\n",
      "555 is equal to 555\n"
     ]
    }
   ],
   "source": [
    "\"\"\"Compare integers using if statements and comparison operators.\"\"\"\n",
    "\n",
    "\"\"\"\n",
    "PROCEDURE compare_integers\n",
    "INPUT number1\n",
    "INPUT number2\n",
    "\n",
    "IF number1 equals number2\n",
    "    OUTPUT number1 \"is equal to\" number2\n",
    "ELSE\n",
    "    OUTPUT number1 \"is not equal to\" number2\n",
    "\n",
    "    IF number1 is less than number2\n",
    "        OUTPUT number1 \"is less than\" number2\n",
    "    ELSE\n",
    "        OUTPUT number1 \"is greater than\" number2\n",
    "    END IF\n",
    "\n",
    "    IF number1 is less than or equal to number2\n",
    "        OUTPUT number1 \"is less than or equal to\" number2\n",
    "    ELSE\n",
    "        OUTPUT number1 \"is greater than or equal to\" number2\n",
    "    END IF\n",
    "END IF\n",
    "\n",
    "END PROCEDURE\n",
    "\"\"\"\n",
    "\n",
    "print('Enter two integers and I will tell you', \n",
    "      'the relationships they satisfy.')\n",
    "\n",
    "# read first integer\n",
    "number1 = int(input('Enter first integer: '))\n",
    "\n",
    "# read second integer\n",
    "number2 = int(input('Enter second integer: '))\n",
    "\n",
    "\n",
    "if number1 == number2:\n",
    "    print(number1, 'is equal to', number2)\n",
    "\n",
    "else:\n",
    "    print(number1, 'is not equal to', number2)\n",
    "\n",
    "    if number1 < number2:\n",
    "        print(number1, 'is less than', number2)\n",
    "\n",
    "    else:\n",
    "        print(number1, 'is greater than', number2)\n",
    "        \n",
    "    if number1 <= number2:\n",
    "        print(number1, 'is less than or equal to', number2)\n",
    "\n",
    "    else:\n",
    "        print(number1, 'is greater than or equal to', number2)\n",
    "\n",
    "\n",
    "\n"
   ]
  },
  {
   "cell_type": "code",
   "execution_count": null,
   "id": "487ef187",
   "metadata": {},
   "outputs": [],
   "source": [
    "\"\"\"\n",
    "(Turing Test) The great British mathematician Alan Turing proposed a simple test to determine whether machines could exhibit intelligent \n",
    "behavior. A user sits at a comput\u0002er and does the same text chat with a human sitting at a computer and a computer oper\u0002ating by itself. \n",
    "The user doesn’t know if the responses are coming back from the human or the independent computer. If the user can’t distinguish which \n",
    "responses are coming from the human and which are coming from the computer, then it’s reasonable to say that the computer is exhibiting \n",
    "intelligence.  Create a script that plays the part of the independent computer, giving its user a sim\u0002ple medical diagnosis. The script \n",
    "should prompt the user with 'What is your problem?' When the user answers and presses Enter, the script should simply ignore the user’s \n",
    "input, then prompt the user again with 'Have you had this problem before (yes or no)?' If the user enters 'yes', print 'Well, you have it \n",
    "again.' If the user answers 'no', print'Well, you have it now.' Would this conversation convince the user that the entity at the other \n",
    "end exhibited intelligent behavior? Why or why not?\"\"\""
   ]
  },
  {
   "cell_type": "code",
   "execution_count": 69,
   "id": "e7271b83",
   "metadata": {},
   "outputs": [
    {
     "name": "stdout",
     "output_type": "stream",
     "text": [
      "What is your problem?\n",
      "Please enter you question: asafa\n",
      "Have you had this problem before (yes or no)?\n",
      "no\n",
      "Well, you have it now.\n"
     ]
    }
   ],
   "source": [
    "\"\"\"\n",
    "START\n",
    "\n",
    "PRINT \"What is your problem?\"\n",
    "\n",
    "INPUT problem\n",
    "\n",
    "PRINT \"Have you had this problem before (yes or no)?\"\n",
    "\n",
    "INPUT previous\n",
    "\n",
    "IF previous is \"yes\" THEN\n",
    "    PRINT \"Well, you have it again.\"\n",
    "\n",
    "ELSE IF previous is \"no\" THEN\n",
    "    PRINT \"Well, you have it now.\"\n",
    "\n",
    "ELSE\n",
    "    PRINT \"please type yes or no\"\n",
    "\n",
    "END\n",
    "\"\"\"\n",
    "\n",
    "\n",
    "\n",
    "\n",
    "print(\"What is your problem?\")\n",
    "problem = input(\"Please enter you question: \")\n",
    "\n",
    "print(\"Have you had this problem before (yes or no)?\")\n",
    "previous = input().lower()\n",
    "\n",
    "if previous == \"yes\":\n",
    "    print(\"Well, you have it again.\")\n",
    "\n",
    "elif previous == \"no\":\n",
    "    print(\"Well, you have it now.\")\n",
    "\n",
    "else:\n",
    "    print(\"please type yes or no\")"
   ]
  }
 ],
 "metadata": {
  "kernelspec": {
   "display_name": "Python 3",
   "language": "python",
   "name": "python3"
  },
  "language_info": {
   "codemirror_mode": {
    "name": "ipython",
    "version": 3
   },
   "file_extension": ".py",
   "mimetype": "text/x-python",
   "name": "python",
   "nbconvert_exporter": "python",
   "pygments_lexer": "ipython3",
   "version": "3.11.1"
  },
  "vscode": {
   "interpreter": {
    "hash": "14f072873ae08df4c138db59151e17ea0fcd37562a0aadae5c1dbd5a550728a0"
   }
  }
 },
 "nbformat": 4,
 "nbformat_minor": 5
}
