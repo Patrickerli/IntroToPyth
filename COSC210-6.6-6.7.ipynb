{
 "cells": [
  {
   "cell_type": "markdown",
   "id": "0873a6dc",
   "metadata": {},
   "source": []
  },
  {
   "cell_type": "markdown",
   "id": "e0f402e1",
   "metadata": {},
   "source": [
    "6.6 (Duplicate Word Removal) Write a function that receives a list of words, then determines and displays in alphabetical order only the unique words. Treat uppercase and lowercase letters the same. The function should use a set to get the unique words in the list. Test your function with several sentences. "
   ]
  },
  {
   "cell_type": "code",
   "execution_count": 240,
   "id": "6f6adec6",
   "metadata": {},
   "outputs": [],
   "source": [
    "sentence1 = [\"This\", \"is\", \"a\", \"test\", \"sentence\", \"sentence\"]"
   ]
  },
  {
   "cell_type": "code",
   "execution_count": 243,
   "id": "9b13f7e2",
   "metadata": {},
   "outputs": [],
   "source": [
    "sentence2 = [ 'a', 'add', 'an', 'any', 'are', 'at', 'be', 'can', 'changeable', 'collection','a', 'add', 'an', 'any', 'are', 'at', 'be', 'can', 'changeable', 'collection', 'contain', 'delete', 'dictionary', 'elements', 'example', 'for', 'gets', 'if', 'in', 'index', 'inserted', 'is', 'it', 'item', 'its', 'key', 'multiple', 'mutable', 'not', 'or', 'original', 'put', 'python', 'sequence', 'simply', 'stored', 'the', 'to', 'un-ordered', 'update', 'simply', 'stored', 'the', 'to', 'un-ordered', 'update', 'updated', 'using', 'you']"
   ]
  },
  {
   "cell_type": "code",
   "execution_count": 244,
   "id": "2818215e",
   "metadata": {},
   "outputs": [],
   "source": [
    "\"\"\"\n",
    "Define a function named \"remove_duplicate_words\" that takes in a variable \"words\"\n",
    "Create a variable named \"words\" that is a list comprehension that converts all items in the input \"words\" to lowercase\n",
    "Create a variable named \"unique_words\" that is a set of the items in the \"words\" variable\n",
    "Create a variable named \"unique_words\" that is the result of sorting the \"unique_words\" variable\n",
    "Print the \"unique_words\" variable\n",
    "\"\"\"\n",
    "def remove_duplicate_words(words):\n",
    "    \"\"\"Duplicate Word Removal\"\"\"\n",
    "    # convert all words to lowercase\n",
    "    words = [word.lower() for word in words]\n",
    "    # convert list to set to get unique words\n",
    "    unique_words = set(words)\n",
    "    # sort the unique words alphabetically\n",
    "    unique_words = sorted(unique_words)\n",
    "    # display the unique words\n",
    "    print(unique_words)\n",
    "    "
   ]
  },
  {
   "cell_type": "code",
   "execution_count": 242,
   "id": "6aa1d556",
   "metadata": {},
   "outputs": [
    {
     "name": "stdout",
     "output_type": "stream",
     "text": [
      "['a', 'is', 'sentence', 'test', 'this']\n"
     ]
    }
   ],
   "source": [
    "remove_duplicate_words(sentence1)"
   ]
  },
  {
   "cell_type": "code",
   "execution_count": 245,
   "id": "e1e85eee",
   "metadata": {},
   "outputs": [
    {
     "name": "stdout",
     "output_type": "stream",
     "text": [
      "['a', 'add', 'an', 'any', 'are', 'at', 'be', 'can', 'changeable', 'collection', 'contain', 'delete', 'dictionary', 'elements', 'example', 'for', 'gets', 'if', 'in', 'index', 'inserted', 'is', 'it', 'item', 'its', 'key', 'multiple', 'mutable', 'not', 'or', 'original', 'put', 'python', 'sequence', 'simply', 'stored', 'the', 'to', 'un-ordered', 'update', 'updated', 'using', 'you']\n"
     ]
    }
   ],
   "source": [
    "remove_duplicate_words(sentence2)"
   ]
  },
  {
   "cell_type": "code",
   "execution_count": 248,
   "id": "6f36ccb2",
   "metadata": {},
   "outputs": [],
   "source": [
    "test1 = \"Python Dictionary is a collection. It can contain multiple elements. Python Dictionary is un-ordered. The elements in the dictionary are not stored in a sequence. For example, if you add an item to a dictionary, it can be inserted at any index. Python Dictionary is changeable. You can update an item using its key, delete an item, or add an item. The original dictionary gets updated. Simply put, Python Dictionary is mutable.\""
   ]
  },
  {
   "cell_type": "code",
   "execution_count": 249,
   "id": "3b1906fe",
   "metadata": {},
   "outputs": [],
   "source": [
    "\"\"\"\n",
    "Define a function named \"main\" that takes in a variable \"sentence\"\n",
    "Create a variable \"word_counts\" that is an empty dictionary\n",
    "Convert the \"sentence\" variable to lowercase and replace all '.' and ',' with a space\n",
    "Iterate over each word in the sentence using the split method\n",
    "Within the loop, check if the word exists in the \"word_counts\" dictionary\n",
    "If it does, increment the count by 1\n",
    "If it does not, add the word to the dictionary with a count of 1\n",
    "Print the word and count in a formatted table using a loop over the sorted items in the \"word_counts\" dictionary\n",
    "Print the number of unique words using the len function and the \"word_counts\" dictionary\n",
    "Split the sentence into words using space as the delimiter\n",
    "Create a list comprehension that converts all words to lowercase\n",
    "Create a variable named \"unique_words\" that is a set of the items in the \"words\" list\n",
    "Create a variable named \"unique_words\" that is the result of sorting the \"unique_words\" set\n",
    "Print the \"unique_words\" variable\n",
    "\"\"\"\n",
    "\n",
    "\n",
    "\n",
    "def main(sentence):\n",
    "    # create an empty dictionary to store word count\n",
    "    word_counts = {}   \n",
    "    # convert the sentence to lowercase\n",
    "    sentence = sentence.lower()\n",
    "    # replace all '.' and ',' with a space\n",
    "    sentence = sentence.replace('.',' ')\n",
    "    sentence = sentence.replace(',',' ')\n",
    "    #iterate over each word in the sentence using the split method\n",
    "    for word in sentence.split():\n",
    "        #check if the word exists in the \"word_counts\" dictionary\n",
    "        if word in word_counts: \n",
    "            # if it does, increment the count by 1\n",
    "            word_counts[word] += 1 \n",
    "        else:\n",
    "            # if it does not, add the word to the dictionary with a count of 1\n",
    "            word_counts[word] = 1 \n",
    "    #print the word and count in a formatted table using a loop over the sorted items in the \"word_counts\" dictionary\n",
    "    print(f'{\"WORD\":<12}COUNT')\n",
    "    for word, count in sorted(word_counts.items()): \n",
    "        print(f'{word:<12}{count}')\n",
    "    #print the number of unique words using the len function and the \"word_counts\" dictionary\n",
    "    print('\\nNumber of unique words:', len(word_counts))\n",
    "\n",
    "    # split the sentence into words using space as the delimiter\n",
    "    words = sentence.split(\" \")\n",
    "\n",
    "    # convert all words to lowercase\n",
    "    words = [word.lower() for word in words]\n",
    "    \n",
    "    # convert list to set to get unique words\n",
    "    unique_words = set(words)\n",
    "    \n",
    "    # sort the unique words alphabetically\n",
    "    unique_words = sorted(unique_words)\n",
    "\n",
    "    # display the unique words\n",
    "    print(unique_words)\n"
   ]
  },
  {
   "cell_type": "code",
   "execution_count": 250,
   "id": "28989c84",
   "metadata": {},
   "outputs": [
    {
     "name": "stdout",
     "output_type": "stream",
     "text": [
      "WORD        COUNT\n",
      "a           3\n",
      "add         2\n",
      "an          4\n",
      "any         1\n",
      "are         1\n",
      "at          1\n",
      "be          1\n",
      "can         3\n",
      "changeable  1\n",
      "collection  1\n",
      "contain     1\n",
      "delete      1\n",
      "dictionary  7\n",
      "elements    2\n",
      "example     1\n",
      "for         1\n",
      "gets        1\n",
      "if          1\n",
      "in          2\n",
      "index       1\n",
      "inserted    1\n",
      "is          4\n",
      "it          2\n",
      "item        4\n",
      "its         1\n",
      "key         1\n",
      "multiple    1\n",
      "mutable     1\n",
      "not         1\n",
      "or          1\n",
      "original    1\n",
      "put         1\n",
      "python      4\n",
      "sequence    1\n",
      "simply      1\n",
      "stored      1\n",
      "the         3\n",
      "to          1\n",
      "un-ordered  1\n",
      "update      1\n",
      "updated     1\n",
      "using       1\n",
      "you         2\n",
      "\n",
      "Number of unique words: 43\n",
      "['', 'a', 'add', 'an', 'any', 'are', 'at', 'be', 'can', 'changeable', 'collection', 'contain', 'delete', 'dictionary', 'elements', 'example', 'for', 'gets', 'if', 'in', 'index', 'inserted', 'is', 'it', 'item', 'its', 'key', 'multiple', 'mutable', 'not', 'or', 'original', 'put', 'python', 'sequence', 'simply', 'stored', 'the', 'to', 'un-ordered', 'update', 'updated', 'using', 'you']\n"
     ]
    }
   ],
   "source": [
    "main(test1)"
   ]
  },
  {
   "cell_type": "code",
   "execution_count": 246,
   "id": "9048942b",
   "metadata": {},
   "outputs": [],
   "source": [
    "\n",
    "\"\"\"\n",
    "Define a function named \"remove_duplicate_words\" that takes in a variable \"words\"\n",
    "Create a variable named \"words\" that is a list comprehension that converts all items in the input \"words\" to lowercase\n",
    "Create a variable named \"unique_words\" that is a set of the items in the \"words\" variable\n",
    "Create a variable named \"unique_words\" that is the result of sorting the \"unique_words\" variable\n",
    "Print the \"unique_words\" variable\n",
    "\"\"\"\n",
    "def sentence_to_words(sentence):\n",
    "    \"\"\"Sentence to word list\"\"\"\n",
    "    # split the sentence into words using space as the delimiter\n",
    "    words = sentence.split(\" \")\n",
    "    # return the list of words\n",
    "    return words\n",
    "\n",
    "def remove_duplicate_words(words):\n",
    "    \"\"\"Duplicate Word Removal\"\"\"\n",
    "    # convert all words to lowercase\n",
    "    words = [word.lower() for word in words]\n",
    "    # convert list to set to get unique words\n",
    "    unique_words = set(words)\n",
    "    # sort the unique words alphabetically\n",
    "    unique_words = sorted(unique_words)\n",
    "    # display the unique words\n",
    "    print(unique_words)    \n",
    "    \n",
    "word_counts = {}   \n",
    "def count_words(sentence):\n",
    "    \"\"\"Sentence word count\"\"\"\n",
    "    sentence = sentence.lower()\n",
    "    sentence = sentence.replace('.',' ')\n",
    "    sentence = sentence.replace(',',' ')\n",
    "    for word in sentence.split():\n",
    "        if word in word_counts: \n",
    "            word_counts[word] += 1 \n",
    "        else:\n",
    "            word_counts[word] = 1 \n",
    "    print(f'{\"WORD\":<12}COUNT')\n",
    "    for word, count in sorted(word_counts.items()): \n",
    "        print(f'{word:<12}{count}')\n",
    "    print('\\nNumber of unique words:', len(word_counts))\n",
    "    \n",
    "    \n",
    "def main(sentence):\n",
    "    count_words(sentence)\n",
    "    sentence = sentence_to_words(sentence)\n",
    "    remove_duplicate_words(sentence)"
   ]
  },
  {
   "cell_type": "code",
   "execution_count": 247,
   "id": "d9913714",
   "metadata": {},
   "outputs": [
    {
     "name": "stdout",
     "output_type": "stream",
     "text": [
      "WORD        COUNT\n",
      "a           3\n",
      "add         2\n",
      "an          4\n",
      "any         1\n",
      "are         1\n",
      "at          1\n",
      "be          1\n",
      "can         3\n",
      "changeable  1\n",
      "collection  1\n",
      "contain     1\n",
      "delete      1\n",
      "dictionary  7\n",
      "elements    2\n",
      "example     1\n",
      "for         1\n",
      "gets        1\n",
      "if          1\n",
      "in          2\n",
      "index       1\n",
      "inserted    1\n",
      "is          4\n",
      "it          2\n",
      "item        4\n",
      "its         1\n",
      "key         1\n",
      "multiple    1\n",
      "mutable     1\n",
      "not         1\n",
      "or          1\n",
      "original    1\n",
      "put         1\n",
      "python      4\n",
      "sequence    1\n",
      "simply      1\n",
      "stored      1\n",
      "the         3\n",
      "to          1\n",
      "un-ordered  1\n",
      "update      1\n",
      "updated     1\n",
      "using       1\n",
      "you         2\n",
      "\n",
      "Number of unique words: 43\n",
      "['a', 'add', 'an', 'any', 'are', 'at', 'be', 'can', 'changeable.', 'collection.', 'contain', 'delete', 'dictionary', 'dictionary,', 'elements', 'elements.', 'example,', 'for', 'gets', 'if', 'in', 'index.', 'inserted', 'is', 'it', 'item', 'item,', 'item.', 'its', 'key,', 'multiple', 'mutable.', 'not', 'or', 'original', 'put,', 'python', 'sequence.', 'simply', 'stored', 'the', 'to', 'un-ordered.', 'update', 'updated.', 'using', 'you']\n"
     ]
    }
   ],
   "source": [
    "main(test1)"
   ]
  },
  {
   "cell_type": "markdown",
   "id": "7dc09c57",
   "metadata": {},
   "source": [
    "6.7 (Character Counts) Recall that strings are sequences of characters. Use techniques similar to Fig. 6.2 to write a script that inputs a sentence from the user, then uses a dictionary to summarize the number of occurrences of each letter. Ignore case, ignore blanks and assume the user does not enter any punctuation. Display a two-column table of the letters and their counts with the letters in sorted order. Challenge: Use a set operation to determine which letters of the alphabet were not in the original string."
   ]
  },
  {
   "cell_type": "code",
   "execution_count": 259,
   "id": "19230526",
   "metadata": {},
   "outputs": [
    {
     "name": "stdout",
     "output_type": "stream",
     "text": [
      "Enter a sentence: Python Dictionary Python Dictionary is a collection. It can contain multiple elements.  Python Dictionary is un-ordered. The elements in the dictionary are not stored in a sequence. For example, if you add an item to a dictionary, it can be inserted at any index.  Python Dictionary is changeable. You can update an item using its key, delete an item, or add an item. The original dictionary gets updated. Simply put, Python Dictionary is mutable.  Python Dictionary is indexed. You can access a specific key:value pair using key as index.\n",
      "Character   Count\n",
      "a           38\n",
      "b           3\n",
      "c           22\n",
      "d           25\n",
      "e           46\n",
      "f           3\n",
      "g           5\n",
      "h           10\n",
      "i           48\n",
      "k           3\n",
      "l           13\n",
      "m           10\n",
      "n           42\n",
      "o           28\n",
      "p           14\n",
      "q           1\n",
      "r           18\n",
      "s           19\n",
      "t           41\n",
      "u           13\n",
      "v           1\n",
      "x           4\n",
      "y           23\n",
      "\n",
      "Missing characters: {'j', 'w', 'z'}\n"
     ]
    }
   ],
   "source": [
    "\"\"\"\n",
    "Define a function named \"char_counts\" that takes in a variable \"sentence\"\n",
    "Convert the \"sentence\" variable to lowercase\n",
    "Create a variable \"char_counts\" that is an empty dictionary\n",
    "Create a variable \"alphabet\" that is a set of all lowercase letters of the alphabet\n",
    "Iterate over each character in the sentence\n",
    "Within the loop, check if the character is not in alphabet, then ignore it\n",
    "Check if the character exists in the \"char_counts\" dictionary\n",
    "If it does, increment the count by 1\n",
    "If it does not, add the character to the dictionary with a count of 1\n",
    "Print the character and count in a formatted table using a loop over the sorted items in the \"char_counts\" dictionary\n",
    "Create a variable \"missing_chars\" that is the result of the set subtraction of the \"alphabet\" set and the set of keys in the \"char_counts\" dictionary\n",
    "Print the \"missing_chars\" variable\n",
    "Call the function with user input as the argument\n",
    "\n",
    "\n",
    "\"\"\"\n",
    "\n",
    "def char_counts(sentence):\n",
    "    \"\"\"Character Counts\"\"\"\n",
    "    # convert the sentence to lowercase\n",
    "    sentence = sentence.lower()\n",
    "    # create an empty dictionary to store character count\n",
    "    char_counts = {}\n",
    "    # use set subtraction to determine characters not in the original string\n",
    "    alphabet = set(\"abcdefghijklmnopqrstuvwxyz\")\n",
    "    # iterate over each character in the sentence\n",
    "    for char in sentence:\n",
    "        # Ignore characters other than letters\n",
    "        if char not in alphabet:\n",
    "            continue\n",
    "        # check if the character exists in the dictionary\n",
    "        if char in char_counts:\n",
    "            # if it does, increment the count by 1\n",
    "            char_counts[char] += 1\n",
    "        else:\n",
    "            # if it does not, add the character to the dictionary with a count of 1\n",
    "            char_counts[char] = 1\n",
    "    # print the character and count in a formatted table using a loop over the sorted items in the \"char_counts\" dictionary\n",
    "    print(f'{\"Character\":<12}Count')\n",
    "    for char, count in sorted(char_counts.items()):\n",
    "        print(f'{char:<12}{count}')\n",
    "\n",
    "    missing_chars = alphabet - set(char_counts.keys())\n",
    "    print(f'\\nMissing characters: {missing_chars}')\n",
    "\n",
    "# test the function\n",
    "sentence = input(\"Enter a sentence: \")\n",
    "char_counts(sentence)\n"
   ]
  }
 ],
 "metadata": {
  "kernelspec": {
   "display_name": "Python 3 (ipykernel)",
   "language": "python",
   "name": "python3"
  },
  "language_info": {
   "codemirror_mode": {
    "name": "ipython",
    "version": 3
   },
   "file_extension": ".py",
   "mimetype": "text/x-python",
   "name": "python",
   "nbconvert_exporter": "python",
   "pygments_lexer": "ipython3",
   "version": "3.9.13"
  }
 },
 "nbformat": 4,
 "nbformat_minor": 5
}
